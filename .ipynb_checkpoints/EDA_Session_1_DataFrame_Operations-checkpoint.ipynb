{
 "cells": [
  {
   "cell_type": "markdown",
   "id": "1918b388-9a3b-4679-b82f-2861f9aa4cbf",
   "metadata": {},
   "source": [
    "# <center>DATAFRAME"
   ]
  },
  {
   "cell_type": "code",
   "execution_count": null,
   "id": "8a45aa55-b919-4982-86aa-8e9d4e185a9d",
   "metadata": {},
   "outputs": [],
   "source": [
    "----------------Data Analysis----------------------------\n",
    "1.Pandas    -------    Datframe read and write opeartions\n",
    "2.Numpy     -------    Numeriacl Python Math operations\n",
    "3.matplotlib -----     plots , Graphs, Visulization\n",
    "4.Seaborn    -----     plots\n",
    "5.plotly     ----      plots\n",
    "6.Bokhe      ----       plots\n",
    "\n",
    "--------------- Machine learning ------------------------\n",
    "7. Sickit-learn (sklearn) ===== Model development\n",
    "8. stats packages         ===== Linear regression\n",
    "\n",
    "================ Webscrapping and Database connection ========\n",
    "9. Sqlite           ======== SQL connection\n",
    "10. Beautiful soup  ======= scarp the data \n",
    "11. websocket       ======= Scrap the data \n",
    "\n",
    "================== Deep learning =======================\n",
    "12. Tensorflow     ==== deep learning models development(google)\n",
    "13. keras \n",
    "14. pytorch       ===== develop by facebook(meta)\n",
    "15. Opencv        ===== computer vision(reading and writing images)\n",
    "16. Pillow        ==== reading images\n",
    "================== NLP =================================\n",
    "17. NLTK        ===== Natural language tool kit\n",
    "18. SpaCy       ====  NLP models\n",
    "19. wordcloud   ====  \n",
    "================= Web development -API ========================\n",
    "20. Flask\n",
    "21. Django\n",
    "22. Fast API\n",
    "23. Gradio\n",
    "================ Apps creation ================================\n",
    "24. Streamlit\n",
    "================== Transformers BERT ================\n",
    "25. Transformers ==== Huggingface (Google)\n",
    "==================== DL:Pretrained Models Object Detections =================\n",
    "26. Vgg16\n",
    "27. Mobilenet\n",
    "28. Yolo ----- Ultralytics\n",
    "===================== NLP pretrained Models ==================\n",
    "29.Word2Vec ----- Google\n",
    "30.GloVe   ----- StandforUniversity\n",
    "\n",
    "=================== Model save =======================\n",
    "31. Pickle  \n",
    "32. Joblib\n",
    "\n",
    "=================== GenAI LLM ====================\n",
    "33. Azure openAI \n",
    "34. Google Gemini\n",
    "35. Amazon BedRock\n",
    "36. LLAMA Meta AI\n",
    "37. Langchain Framework\n",
    "===================== Model Deployment =============\n",
    "38. Mlflow\n",
    "\n",
    "====================== Cloud services ==============\n",
    "39. Azure Ml related packages\n",
    "40. GCP vertex ai packages\n",
    "41. Amazon sagemaker packages\n",
    "\n",
    "================= Alle NLP =======================\n",
    "42. Allen NLP packages\n",
    "\n",
    "===================== ML using Pyspark ===========\n",
    "43. MLlib package\n",
    "================= Small packages =================\n",
    "44. random\n",
    "45. math\n",
    "46. time\n",
    "47. logger \n",
    "\n"
   ]
  },
  {
   "cell_type": "markdown",
   "id": "568db234-b8b0-49bb-886d-caf041ac9b19",
   "metadata": {},
   "source": [
    "**Step-1: Import packages**"
   ]
  },
  {
   "cell_type": "code",
   "execution_count": 1,
   "id": "42f95eaf-5b7f-4a42-9df4-6e7e3fa76319",
   "metadata": {},
   "outputs": [],
   "source": [
    "import pandas as pd\n",
    "import numpy as np\n",
    "import matplotlib.pyplot as plt\n",
    "import seaborn as sns"
   ]
  },
  {
   "cell_type": "markdown",
   "id": "06c088e4-abe1-4093-afb5-3a0f5eed0bb6",
   "metadata": {},
   "source": [
    "**Step-2:Create a DataFrame using List**"
   ]
  },
  {
   "cell_type": "code",
   "execution_count": 2,
   "id": "d3da9164-d100-42aa-a11b-7bce52dae6de",
   "metadata": {},
   "outputs": [
    {
     "data": {
      "text/html": [
       "<div>\n",
       "<style scoped>\n",
       "    .dataframe tbody tr th:only-of-type {\n",
       "        vertical-align: middle;\n",
       "    }\n",
       "\n",
       "    .dataframe tbody tr th {\n",
       "        vertical-align: top;\n",
       "    }\n",
       "\n",
       "    .dataframe thead th {\n",
       "        text-align: right;\n",
       "    }\n",
       "</style>\n",
       "<table border=\"1\" class=\"dataframe\">\n",
       "  <thead>\n",
       "    <tr style=\"text-align: right;\">\n",
       "      <th></th>\n",
       "    </tr>\n",
       "  </thead>\n",
       "  <tbody>\n",
       "  </tbody>\n",
       "</table>\n",
       "</div>"
      ],
      "text/plain": [
       "Empty DataFrame\n",
       "Columns: []\n",
       "Index: []"
      ]
     },
     "execution_count": 2,
     "metadata": {},
     "output_type": "execute_result"
    }
   ],
   "source": [
    "import pandas as pd\n",
    "data=pd.DataFrame()\n",
    "# we create a DataFrame\n",
    "# But no data(No rows and No columns)\n",
    "# We saved our dataframe with a name 'data'\n",
    "data"
   ]
  },
  {
   "cell_type": "markdown",
   "id": "9ce4249b-a096-4798-8bf4-6c75f1cdca12",
   "metadata": {},
   "source": [
    "**Step-3: Provide the data**"
   ]
  },
  {
   "cell_type": "code",
   "execution_count": 3,
   "id": "0b2b661b-832e-4ead-9714-94ea79141703",
   "metadata": {},
   "outputs": [
    {
     "data": {
      "text/html": [
       "<div>\n",
       "<style scoped>\n",
       "    .dataframe tbody tr th:only-of-type {\n",
       "        vertical-align: middle;\n",
       "    }\n",
       "\n",
       "    .dataframe tbody tr th {\n",
       "        vertical-align: top;\n",
       "    }\n",
       "\n",
       "    .dataframe thead th {\n",
       "        text-align: right;\n",
       "    }\n",
       "</style>\n",
       "<table border=\"1\" class=\"dataframe\">\n",
       "  <thead>\n",
       "    <tr style=\"text-align: right;\">\n",
       "      <th></th>\n",
       "      <th>0</th>\n",
       "    </tr>\n",
       "  </thead>\n",
       "  <tbody>\n",
       "    <tr>\n",
       "      <th>0</th>\n",
       "      <td>Raj</td>\n",
       "    </tr>\n",
       "    <tr>\n",
       "      <th>1</th>\n",
       "      <td>Abhi</td>\n",
       "    </tr>\n",
       "    <tr>\n",
       "      <th>2</th>\n",
       "      <td>Chinna</td>\n",
       "    </tr>\n",
       "  </tbody>\n",
       "</table>\n",
       "</div>"
      ],
      "text/plain": [
       "        0\n",
       "0     Raj\n",
       "1    Abhi\n",
       "2  Chinna"
      ]
     },
     "execution_count": 3,
     "metadata": {},
     "output_type": "execute_result"
    }
   ],
   "source": [
    "name=['Raj','Abhi','Chinna']\n",
    "pd.DataFrame(name)"
   ]
  },
  {
   "cell_type": "code",
   "execution_count": 4,
   "id": "c4eac2d6-73f7-492b-a786-0273a30d8dc0",
   "metadata": {},
   "outputs": [
    {
     "data": {
      "text/html": [
       "<div>\n",
       "<style scoped>\n",
       "    .dataframe tbody tr th:only-of-type {\n",
       "        vertical-align: middle;\n",
       "    }\n",
       "\n",
       "    .dataframe tbody tr th {\n",
       "        vertical-align: top;\n",
       "    }\n",
       "\n",
       "    .dataframe thead th {\n",
       "        text-align: right;\n",
       "    }\n",
       "</style>\n",
       "<table border=\"1\" class=\"dataframe\">\n",
       "  <thead>\n",
       "    <tr style=\"text-align: right;\">\n",
       "      <th></th>\n",
       "      <th>0</th>\n",
       "      <th>1</th>\n",
       "    </tr>\n",
       "  </thead>\n",
       "  <tbody>\n",
       "    <tr>\n",
       "      <th>0</th>\n",
       "      <td>Raj</td>\n",
       "      <td>20</td>\n",
       "    </tr>\n",
       "    <tr>\n",
       "      <th>1</th>\n",
       "      <td>Abhi</td>\n",
       "      <td>21</td>\n",
       "    </tr>\n",
       "    <tr>\n",
       "      <th>2</th>\n",
       "      <td>Chinna</td>\n",
       "      <td>22</td>\n",
       "    </tr>\n",
       "  </tbody>\n",
       "</table>\n",
       "</div>"
      ],
      "text/plain": [
       "        0   1\n",
       "0     Raj  20\n",
       "1    Abhi  21\n",
       "2  Chinna  22"
      ]
     },
     "execution_count": 4,
     "metadata": {},
     "output_type": "execute_result"
    }
   ],
   "source": [
    "name=['Raj','Abhi','Chinna']\n",
    "age =[20,21,22]\n",
    "pd.DataFrame(zip(name,age)) "
   ]
  },
  {
   "cell_type": "code",
   "execution_count": 5,
   "id": "39e7326d-3ce4-4985-9574-01e5bc794a49",
   "metadata": {},
   "outputs": [
    {
     "data": {
      "text/html": [
       "<div>\n",
       "<style scoped>\n",
       "    .dataframe tbody tr th:only-of-type {\n",
       "        vertical-align: middle;\n",
       "    }\n",
       "\n",
       "    .dataframe tbody tr th {\n",
       "        vertical-align: top;\n",
       "    }\n",
       "\n",
       "    .dataframe thead th {\n",
       "        text-align: right;\n",
       "    }\n",
       "</style>\n",
       "<table border=\"1\" class=\"dataframe\">\n",
       "  <thead>\n",
       "    <tr style=\"text-align: right;\">\n",
       "      <th></th>\n",
       "      <th>0</th>\n",
       "      <th>1</th>\n",
       "      <th>2</th>\n",
       "    </tr>\n",
       "  </thead>\n",
       "  <tbody>\n",
       "    <tr>\n",
       "      <th>0</th>\n",
       "      <td>Raj</td>\n",
       "      <td>20</td>\n",
       "      <td>Pune</td>\n",
       "    </tr>\n",
       "    <tr>\n",
       "      <th>1</th>\n",
       "      <td>Abhi</td>\n",
       "      <td>21</td>\n",
       "      <td>Hyd</td>\n",
       "    </tr>\n",
       "    <tr>\n",
       "      <th>2</th>\n",
       "      <td>Chinna</td>\n",
       "      <td>22</td>\n",
       "      <td>Delhi</td>\n",
       "    </tr>\n",
       "  </tbody>\n",
       "</table>\n",
       "</div>"
      ],
      "text/plain": [
       "        0   1      2\n",
       "0     Raj  20   Pune\n",
       "1    Abhi  21    Hyd\n",
       "2  Chinna  22  Delhi"
      ]
     },
     "execution_count": 5,
     "metadata": {},
     "output_type": "execute_result"
    }
   ],
   "source": [
    "name=['Raj','Abhi','Chinna']\n",
    "age =[20,21,22]\n",
    "city =['Pune','Hyd','Delhi']\n",
    "pd.DataFrame(zip(name,age,city))"
   ]
  },
  {
   "cell_type": "code",
   "execution_count": 6,
   "id": "94fc8167-ce2c-4080-a100-f88818399fa8",
   "metadata": {},
   "outputs": [
    {
     "data": {
      "text/html": [
       "<div>\n",
       "<style scoped>\n",
       "    .dataframe tbody tr th:only-of-type {\n",
       "        vertical-align: middle;\n",
       "    }\n",
       "\n",
       "    .dataframe tbody tr th {\n",
       "        vertical-align: top;\n",
       "    }\n",
       "\n",
       "    .dataframe thead th {\n",
       "        text-align: right;\n",
       "    }\n",
       "</style>\n",
       "<table border=\"1\" class=\"dataframe\">\n",
       "  <thead>\n",
       "    <tr style=\"text-align: right;\">\n",
       "      <th></th>\n",
       "      <th>0</th>\n",
       "      <th>1</th>\n",
       "      <th>2</th>\n",
       "    </tr>\n",
       "  </thead>\n",
       "  <tbody>\n",
       "    <tr>\n",
       "      <th>0</th>\n",
       "      <td>Raj</td>\n",
       "      <td>Abhi</td>\n",
       "      <td>Chinna</td>\n",
       "    </tr>\n",
       "    <tr>\n",
       "      <th>1</th>\n",
       "      <td>20</td>\n",
       "      <td>21</td>\n",
       "      <td>22</td>\n",
       "    </tr>\n",
       "    <tr>\n",
       "      <th>2</th>\n",
       "      <td>Pune</td>\n",
       "      <td>Hyd</td>\n",
       "      <td>Delhi</td>\n",
       "    </tr>\n",
       "  </tbody>\n",
       "</table>\n",
       "</div>"
      ],
      "text/plain": [
       "      0     1       2\n",
       "0   Raj  Abhi  Chinna\n",
       "1    20    21      22\n",
       "2  Pune   Hyd   Delhi"
      ]
     },
     "execution_count": 6,
     "metadata": {},
     "output_type": "execute_result"
    }
   ],
   "source": [
    "name=['Raj','Abhi','Chinna']\n",
    "age =[20,21,22]\n",
    "city =['Pune','Hyd','Delhi']\n",
    "data=[name,age,city]\n",
    "pd.DataFrame(data)"
   ]
  },
  {
   "cell_type": "code",
   "execution_count": 7,
   "id": "95074399-6baa-45bd-8d0a-df53cfc47e1e",
   "metadata": {},
   "outputs": [
    {
     "data": {
      "text/html": [
       "<div>\n",
       "<style scoped>\n",
       "    .dataframe tbody tr th:only-of-type {\n",
       "        vertical-align: middle;\n",
       "    }\n",
       "\n",
       "    .dataframe tbody tr th {\n",
       "        vertical-align: top;\n",
       "    }\n",
       "\n",
       "    .dataframe thead th {\n",
       "        text-align: right;\n",
       "    }\n",
       "</style>\n",
       "<table border=\"1\" class=\"dataframe\">\n",
       "  <thead>\n",
       "    <tr style=\"text-align: right;\">\n",
       "      <th></th>\n",
       "      <th>0</th>\n",
       "      <th>1</th>\n",
       "      <th>2</th>\n",
       "    </tr>\n",
       "  </thead>\n",
       "  <tbody>\n",
       "    <tr>\n",
       "      <th>0</th>\n",
       "      <td>Raj</td>\n",
       "      <td>20</td>\n",
       "      <td>Pune</td>\n",
       "    </tr>\n",
       "    <tr>\n",
       "      <th>1</th>\n",
       "      <td>Abhi</td>\n",
       "      <td>21</td>\n",
       "      <td>Hyd</td>\n",
       "    </tr>\n",
       "    <tr>\n",
       "      <th>2</th>\n",
       "      <td>Chinna</td>\n",
       "      <td>22</td>\n",
       "      <td>Delhi</td>\n",
       "    </tr>\n",
       "  </tbody>\n",
       "</table>\n",
       "</div>"
      ],
      "text/plain": [
       "        0   1      2\n",
       "0     Raj  20   Pune\n",
       "1    Abhi  21    Hyd\n",
       "2  Chinna  22  Delhi"
      ]
     },
     "execution_count": 7,
     "metadata": {},
     "output_type": "execute_result"
    }
   ],
   "source": [
    "name=['Raj','Abhi','Chinna']\n",
    "age =[20,21,22]\n",
    "city =['Pune','Hyd','Delhi']\n",
    "df=pd.DataFrame(zip(name,age,city))\n",
    "df"
   ]
  },
  {
   "cell_type": "markdown",
   "id": "413f2505-5161-467e-be24-18fbe9292ecc",
   "metadata": {},
   "source": [
    "**Ste-4:Provide the columns**\n",
    "\n",
    "- Columns we need to provide in a list\n",
    "\n",
    "- The number of columns exactly match with data \n",
    "\n",
    "- Here we have 3 columns , so we need to create a list with 3 names"
   ]
  },
  {
   "cell_type": "code",
   "execution_count": 8,
   "id": "22de6ac3-d574-4699-a56a-20f61cc8c962",
   "metadata": {},
   "outputs": [
    {
     "data": {
      "text/html": [
       "<div>\n",
       "<style scoped>\n",
       "    .dataframe tbody tr th:only-of-type {\n",
       "        vertical-align: middle;\n",
       "    }\n",
       "\n",
       "    .dataframe tbody tr th {\n",
       "        vertical-align: top;\n",
       "    }\n",
       "\n",
       "    .dataframe thead th {\n",
       "        text-align: right;\n",
       "    }\n",
       "</style>\n",
       "<table border=\"1\" class=\"dataframe\">\n",
       "  <thead>\n",
       "    <tr style=\"text-align: right;\">\n",
       "      <th></th>\n",
       "      <th>Names</th>\n",
       "      <th>Age</th>\n",
       "      <th>City</th>\n",
       "    </tr>\n",
       "  </thead>\n",
       "  <tbody>\n",
       "    <tr>\n",
       "      <th>0</th>\n",
       "      <td>Raj</td>\n",
       "      <td>20</td>\n",
       "      <td>Pune</td>\n",
       "    </tr>\n",
       "    <tr>\n",
       "      <th>1</th>\n",
       "      <td>Abhi</td>\n",
       "      <td>21</td>\n",
       "      <td>Hyd</td>\n",
       "    </tr>\n",
       "    <tr>\n",
       "      <th>2</th>\n",
       "      <td>Chinna</td>\n",
       "      <td>22</td>\n",
       "      <td>Delhi</td>\n",
       "    </tr>\n",
       "  </tbody>\n",
       "</table>\n",
       "</div>"
      ],
      "text/plain": [
       "    Names  Age   City\n",
       "0     Raj   20   Pune\n",
       "1    Abhi   21    Hyd\n",
       "2  Chinna   22  Delhi"
      ]
     },
     "execution_count": 8,
     "metadata": {},
     "output_type": "execute_result"
    }
   ],
   "source": [
    "name=['Raj','Abhi','Chinna']\n",
    "age =[20,21,22]\n",
    "city =['Pune','Hyd','Delhi']\n",
    "cols=['Names','Age','City']\n",
    "df=pd.DataFrame( zip(name,age,city),\n",
    "                 columns=cols\n",
    "               )\n",
    "df"
   ]
  },
  {
   "cell_type": "markdown",
   "id": "38b69e59-2868-4632-80d8-2a04ffa7ab96",
   "metadata": {},
   "source": [
    "**Ste-5:Provide the index**"
   ]
  },
  {
   "cell_type": "code",
   "execution_count": 9,
   "id": "109c6ca0-6bf6-4c9d-9439-5263065b02e6",
   "metadata": {},
   "outputs": [
    {
     "data": {
      "text/html": [
       "<div>\n",
       "<style scoped>\n",
       "    .dataframe tbody tr th:only-of-type {\n",
       "        vertical-align: middle;\n",
       "    }\n",
       "\n",
       "    .dataframe tbody tr th {\n",
       "        vertical-align: top;\n",
       "    }\n",
       "\n",
       "    .dataframe thead th {\n",
       "        text-align: right;\n",
       "    }\n",
       "</style>\n",
       "<table border=\"1\" class=\"dataframe\">\n",
       "  <thead>\n",
       "    <tr style=\"text-align: right;\">\n",
       "      <th></th>\n",
       "      <th>Names</th>\n",
       "      <th>Age</th>\n",
       "      <th>City</th>\n",
       "    </tr>\n",
       "  </thead>\n",
       "  <tbody>\n",
       "    <tr>\n",
       "      <th>A</th>\n",
       "      <td>Raj</td>\n",
       "      <td>20</td>\n",
       "      <td>Pune</td>\n",
       "    </tr>\n",
       "    <tr>\n",
       "      <th>B</th>\n",
       "      <td>Abhi</td>\n",
       "      <td>21</td>\n",
       "      <td>Hyd</td>\n",
       "    </tr>\n",
       "    <tr>\n",
       "      <th>C</th>\n",
       "      <td>Chinna</td>\n",
       "      <td>22</td>\n",
       "      <td>Delhi</td>\n",
       "    </tr>\n",
       "  </tbody>\n",
       "</table>\n",
       "</div>"
      ],
      "text/plain": [
       "    Names  Age   City\n",
       "A     Raj   20   Pune\n",
       "B    Abhi   21    Hyd\n",
       "C  Chinna   22  Delhi"
      ]
     },
     "execution_count": 9,
     "metadata": {},
     "output_type": "execute_result"
    }
   ],
   "source": [
    "name=['Raj','Abhi','Chinna']\n",
    "age =[20,21,22]\n",
    "city =['Pune','Hyd','Delhi']\n",
    "cols=['Names','Age','City']\n",
    "id=['A','B','C']\n",
    "df=pd.DataFrame( zip(name,age,city),\n",
    "                index=id,\n",
    "                 columns=cols\n",
    "               )\n",
    "df"
   ]
  },
  {
   "cell_type": "markdown",
   "id": "8f7bd002-7442-4b3a-a7bf-0dc85648f921",
   "metadata": {},
   "source": [
    "**Step-6: How to add a New column to already Existed dataframe**\n",
    "\n",
    "- here we alreday has a dataframe with name **df**\n",
    "\n",
    "- It has 3 columns\n",
    "\n",
    "- Now we want add a new column **Marks**\n",
    "\n",
    "- We need to create a new array or list \n",
    "\n",
    "- That length of list should equal to len of rows\n",
    "\n",
    "- so here we have 3 rows, so new list also has 3 values"
   ]
  },
  {
   "cell_type": "code",
   "execution_count": 10,
   "id": "6874f765-c135-4b10-b5b0-74fb9e04a37c",
   "metadata": {},
   "outputs": [
    {
     "data": {
      "text/html": [
       "<div>\n",
       "<style scoped>\n",
       "    .dataframe tbody tr th:only-of-type {\n",
       "        vertical-align: middle;\n",
       "    }\n",
       "\n",
       "    .dataframe tbody tr th {\n",
       "        vertical-align: top;\n",
       "    }\n",
       "\n",
       "    .dataframe thead th {\n",
       "        text-align: right;\n",
       "    }\n",
       "</style>\n",
       "<table border=\"1\" class=\"dataframe\">\n",
       "  <thead>\n",
       "    <tr style=\"text-align: right;\">\n",
       "      <th></th>\n",
       "      <th>Names</th>\n",
       "      <th>Age</th>\n",
       "      <th>City</th>\n",
       "      <th>Marks</th>\n",
       "    </tr>\n",
       "  </thead>\n",
       "  <tbody>\n",
       "    <tr>\n",
       "      <th>A</th>\n",
       "      <td>Raj</td>\n",
       "      <td>20</td>\n",
       "      <td>Pune</td>\n",
       "      <td>100</td>\n",
       "    </tr>\n",
       "    <tr>\n",
       "      <th>B</th>\n",
       "      <td>Abhi</td>\n",
       "      <td>21</td>\n",
       "      <td>Hyd</td>\n",
       "      <td>200</td>\n",
       "    </tr>\n",
       "    <tr>\n",
       "      <th>C</th>\n",
       "      <td>Chinna</td>\n",
       "      <td>22</td>\n",
       "      <td>Delhi</td>\n",
       "      <td>300</td>\n",
       "    </tr>\n",
       "  </tbody>\n",
       "</table>\n",
       "</div>"
      ],
      "text/plain": [
       "    Names  Age   City  Marks\n",
       "A     Raj   20   Pune    100\n",
       "B    Abhi   21    Hyd    200\n",
       "C  Chinna   22  Delhi    300"
      ]
     },
     "execution_count": 10,
     "metadata": {},
     "output_type": "execute_result"
    }
   ],
   "source": [
    "# df['<new column name>']=<list>\n",
    "marks=[100,200,300]\n",
    "df['Marks']=marks\n",
    "df"
   ]
  },
  {
   "cell_type": "markdown",
   "id": "5824fb03-7f05-4525-93c1-60a91415152c",
   "metadata": {},
   "source": [
    "**Step-7:Create a Dataframe using an empty dataframe**\n",
    "\n",
    "- In above case we created a list\n",
    "\n",
    "- we create a dataframe by passing the list "
   ]
  },
  {
   "cell_type": "code",
   "execution_count": null,
   "id": "630ab50d-80df-4c67-baff-23defad8bd50",
   "metadata": {},
   "outputs": [],
   "source": [
    "# name=['Raj','Abhi','Chinna']\n",
    "# age =[20,21,22]\n",
    "# city =['Pune','Hyd','Delhi']\n",
    "# cols=['Names','Age','City']\n",
    "# id=['A','B','C']\n",
    "# df=pd.DataFrame( zip(name,age,city),\n",
    "#                 index=id,\n",
    "#                  columns=cols\n",
    "#                )\n",
    "# df"
   ]
  },
  {
   "cell_type": "code",
   "execution_count": 11,
   "id": "ec24e86d-9dd6-4237-b28b-710b5a1f75d0",
   "metadata": {},
   "outputs": [
    {
     "data": {
      "text/html": [
       "<div>\n",
       "<style scoped>\n",
       "    .dataframe tbody tr th:only-of-type {\n",
       "        vertical-align: middle;\n",
       "    }\n",
       "\n",
       "    .dataframe tbody tr th {\n",
       "        vertical-align: top;\n",
       "    }\n",
       "\n",
       "    .dataframe thead th {\n",
       "        text-align: right;\n",
       "    }\n",
       "</style>\n",
       "<table border=\"1\" class=\"dataframe\">\n",
       "  <thead>\n",
       "    <tr style=\"text-align: right;\">\n",
       "      <th></th>\n",
       "    </tr>\n",
       "  </thead>\n",
       "  <tbody>\n",
       "  </tbody>\n",
       "</table>\n",
       "</div>"
      ],
      "text/plain": [
       "Empty DataFrame\n",
       "Columns: []\n",
       "Index: []"
      ]
     },
     "execution_count": 11,
     "metadata": {},
     "output_type": "execute_result"
    }
   ],
   "source": [
    "# dataframe is created\n",
    "df1=pd.DataFrame()\n",
    "df1"
   ]
  },
  {
   "cell_type": "code",
   "execution_count": 14,
   "id": "b4d6020e-145d-4afc-94fd-711025f57f0a",
   "metadata": {},
   "outputs": [
    {
     "data": {
      "text/html": [
       "<div>\n",
       "<style scoped>\n",
       "    .dataframe tbody tr th:only-of-type {\n",
       "        vertical-align: middle;\n",
       "    }\n",
       "\n",
       "    .dataframe tbody tr th {\n",
       "        vertical-align: top;\n",
       "    }\n",
       "\n",
       "    .dataframe thead th {\n",
       "        text-align: right;\n",
       "    }\n",
       "</style>\n",
       "<table border=\"1\" class=\"dataframe\">\n",
       "  <thead>\n",
       "    <tr style=\"text-align: right;\">\n",
       "      <th></th>\n",
       "      <th>Name</th>\n",
       "      <th>Age</th>\n",
       "      <th>City</th>\n",
       "    </tr>\n",
       "  </thead>\n",
       "  <tbody>\n",
       "    <tr>\n",
       "      <th>0</th>\n",
       "      <td>Raj</td>\n",
       "      <td>20</td>\n",
       "      <td>Pune</td>\n",
       "    </tr>\n",
       "    <tr>\n",
       "      <th>1</th>\n",
       "      <td>Abhi</td>\n",
       "      <td>21</td>\n",
       "      <td>Hyd</td>\n",
       "    </tr>\n",
       "    <tr>\n",
       "      <th>2</th>\n",
       "      <td>Chinna</td>\n",
       "      <td>22</td>\n",
       "      <td>Delhi</td>\n",
       "    </tr>\n",
       "  </tbody>\n",
       "</table>\n",
       "</div>"
      ],
      "text/plain": [
       "     Name  Age   City\n",
       "0     Raj   20   Pune\n",
       "1    Abhi   21    Hyd\n",
       "2  Chinna   22  Delhi"
      ]
     },
     "execution_count": 14,
     "metadata": {},
     "output_type": "execute_result"
    }
   ],
   "source": [
    "name=['Raj','Abhi','Chinna']\n",
    "age =[20,21,22]\n",
    "city =['Pune','Hyd','Delhi']\n",
    "df1['Name']=name\n",
    "df1['Age']=age\n",
    "df1['City']=city\n",
    "df1"
   ]
  },
  {
   "cell_type": "markdown",
   "id": "0d26a2de-f15c-4db5-a577-889a97652a66",
   "metadata": {},
   "source": [
    "**Step-8: Create a Dataframe using Dictionary**"
   ]
  },
  {
   "cell_type": "code",
   "execution_count": 15,
   "id": "cbef4d5a-a401-4ac7-a877-e8dbbe5cfdd3",
   "metadata": {},
   "outputs": [
    {
     "data": {
      "text/plain": [
       "{'Name': ['Raj', 'Abhi', 'Chinna'],\n",
       " 'Age': [20, 21, 22],\n",
       " 'City': ['Pune', 'Hyd', 'Delhi']}"
      ]
     },
     "execution_count": 15,
     "metadata": {},
     "output_type": "execute_result"
    }
   ],
   "source": [
    "dict1={'Name':['Raj','Abhi','Chinna'],\n",
    "      'Age':[20,21,22],\n",
    "      'City':['Pune','Hyd','Delhi']}\n",
    "dict1"
   ]
  },
  {
   "cell_type": "code",
   "execution_count": 18,
   "id": "9cf7d642-85a4-4c25-8268-129b49c33665",
   "metadata": {},
   "outputs": [
    {
     "data": {
      "text/html": [
       "<div>\n",
       "<style scoped>\n",
       "    .dataframe tbody tr th:only-of-type {\n",
       "        vertical-align: middle;\n",
       "    }\n",
       "\n",
       "    .dataframe tbody tr th {\n",
       "        vertical-align: top;\n",
       "    }\n",
       "\n",
       "    .dataframe thead th {\n",
       "        text-align: right;\n",
       "    }\n",
       "</style>\n",
       "<table border=\"1\" class=\"dataframe\">\n",
       "  <thead>\n",
       "    <tr style=\"text-align: right;\">\n",
       "      <th></th>\n",
       "      <th>Name</th>\n",
       "      <th>Age</th>\n",
       "      <th>City</th>\n",
       "    </tr>\n",
       "  </thead>\n",
       "  <tbody>\n",
       "    <tr>\n",
       "      <th>A</th>\n",
       "      <td>Raj</td>\n",
       "      <td>20</td>\n",
       "      <td>Pune</td>\n",
       "    </tr>\n",
       "    <tr>\n",
       "      <th>B</th>\n",
       "      <td>Abhi</td>\n",
       "      <td>21</td>\n",
       "      <td>Hyd</td>\n",
       "    </tr>\n",
       "    <tr>\n",
       "      <th>C</th>\n",
       "      <td>Chinna</td>\n",
       "      <td>22</td>\n",
       "      <td>Delhi</td>\n",
       "    </tr>\n",
       "  </tbody>\n",
       "</table>\n",
       "</div>"
      ],
      "text/plain": [
       "     Name  Age   City\n",
       "A     Raj   20   Pune\n",
       "B    Abhi   21    Hyd\n",
       "C  Chinna   22  Delhi"
      ]
     },
     "execution_count": 18,
     "metadata": {},
     "output_type": "execute_result"
    }
   ],
   "source": [
    "df2=pd.DataFrame(dict1,index=['A','B','C'])\n",
    "df2"
   ]
  },
  {
   "cell_type": "markdown",
   "id": "30f47c20-57bf-446a-8c62-3ba7b98cf074",
   "metadata": {},
   "source": [
    "- keys behave as columns\n",
    "\n",
    "- values behave as rows "
   ]
  },
  {
   "cell_type": "code",
   "execution_count": 26,
   "id": "f878c655-1187-45fd-b9a8-7904e51e0208",
   "metadata": {},
   "outputs": [
    {
     "data": {
      "text/html": [
       "<div>\n",
       "<style scoped>\n",
       "    .dataframe tbody tr th:only-of-type {\n",
       "        vertical-align: middle;\n",
       "    }\n",
       "\n",
       "    .dataframe tbody tr th {\n",
       "        vertical-align: top;\n",
       "    }\n",
       "\n",
       "    .dataframe thead th {\n",
       "        text-align: right;\n",
       "    }\n",
       "</style>\n",
       "<table border=\"1\" class=\"dataframe\">\n",
       "  <thead>\n",
       "    <tr style=\"text-align: right;\">\n",
       "      <th></th>\n",
       "      <th>Names</th>\n",
       "      <th>Age</th>\n",
       "      <th>City</th>\n",
       "    </tr>\n",
       "  </thead>\n",
       "  <tbody>\n",
       "    <tr>\n",
       "      <th>1</th>\n",
       "      <td>Raj</td>\n",
       "      <td>20</td>\n",
       "      <td>Hyd</td>\n",
       "    </tr>\n",
       "    <tr>\n",
       "      <th>2</th>\n",
       "      <td>Raj</td>\n",
       "      <td>20</td>\n",
       "      <td>Hyd</td>\n",
       "    </tr>\n",
       "  </tbody>\n",
       "</table>\n",
       "</div>"
      ],
      "text/plain": [
       "  Names  Age City\n",
       "1   Raj   20  Hyd\n",
       "2   Raj   20  Hyd"
      ]
     },
     "execution_count": 26,
     "metadata": {},
     "output_type": "execute_result"
    }
   ],
   "source": [
    "dict1={'Names':'Raj',\n",
    "      'Age':20,\n",
    "      'City':'Hyd'}\n",
    "pd.DataFrame(dict1,index=[1])\n",
    "# If using all scalar values, you must pass an index"
   ]
  },
  {
   "cell_type": "markdown",
   "id": "5ba9e23d-34f8-4561-a671-123afa5b7db1",
   "metadata": {},
   "source": [
    "- Data in the form array\n",
    "\n",
    "    - list : Normal way\n",
    "\n",
    "    - numpy : Numpy package\n",
    "\n",
    "    - tensor : Tensorflow"
   ]
  },
  {
   "cell_type": "code",
   "execution_count": 27,
   "id": "b971d2ab-6035-47ab-8b89-ce8ac6e0ebdc",
   "metadata": {},
   "outputs": [
    {
     "data": {
      "text/plain": [
       "array([1, 2, 3])"
      ]
     },
     "execution_count": 27,
     "metadata": {},
     "output_type": "execute_result"
    }
   ],
   "source": [
    "l1=[1,2,3]\n",
    "import numpy as np\n",
    "np.array(l1)\n",
    "\n",
    "# tensor([1,2,3])"
   ]
  },
  {
   "cell_type": "code",
   "execution_count": 28,
   "id": "6d678e35-f068-4363-8c83-d39f9087b4e3",
   "metadata": {},
   "outputs": [
    {
     "data": {
      "text/plain": [
       "[1, 2, 3, 11, 12, 13]"
      ]
     },
     "execution_count": 28,
     "metadata": {},
     "output_type": "execute_result"
    }
   ],
   "source": [
    "l1=[1,2,3]\n",
    "l2=[11,12,13]\n",
    "l1+l2"
   ]
  },
  {
   "cell_type": "code",
   "execution_count": 31,
   "id": "0e68a6d8-c090-449f-9a78-6b47eb9faa78",
   "metadata": {},
   "outputs": [
    {
     "data": {
      "text/plain": [
       "(array([12, 14, 16]), array([11, 24, 39]))"
      ]
     },
     "execution_count": 31,
     "metadata": {},
     "output_type": "execute_result"
    }
   ],
   "source": [
    "l1=[1,2,3]\n",
    "a=np.array(l1)\n",
    "l2=[11,12,13]\n",
    "b=np.array(l2)\n",
    "a+b,a*b"
   ]
  },
  {
   "cell_type": "markdown",
   "id": "c1eaa9c6-cb42-48a5-95b0-1d7855b6b905",
   "metadata": {},
   "source": [
    "**Step-9:Drop the Column**\n",
    "\n",
    "- in order to drop a column we need to use **drop** method\n",
    "\n",
    "- All the methods based on your dataframe name similar as string names\n",
    "\n",
    "- It requires mainly 3 arguments\n",
    "\n",
    "    - 1. Column name \n",
    "\n",
    "    - 2. axis \n",
    "\n",
    "        - axis=1  represents column\n",
    "\n",
    "        - axis=0  represents rows\n",
    "\n",
    "   - 3. inplace \n",
    "\n",
    "        - once you drop the column , the dataframe affected\n",
    "\n",
    "        - the modified dataframe wants to save in a same name or different name\n",
    "\n",
    "        - if you want to keep at same name then **inplace=True**\n",
    "\n",
    "        "
   ]
  },
  {
   "cell_type": "code",
   "execution_count": 34,
   "id": "34ed87fd-f76b-4c82-990c-a8573d301180",
   "metadata": {},
   "outputs": [
    {
     "data": {
      "text/html": [
       "<div>\n",
       "<style scoped>\n",
       "    .dataframe tbody tr th:only-of-type {\n",
       "        vertical-align: middle;\n",
       "    }\n",
       "\n",
       "    .dataframe tbody tr th {\n",
       "        vertical-align: top;\n",
       "    }\n",
       "\n",
       "    .dataframe thead th {\n",
       "        text-align: right;\n",
       "    }\n",
       "</style>\n",
       "<table border=\"1\" class=\"dataframe\">\n",
       "  <thead>\n",
       "    <tr style=\"text-align: right;\">\n",
       "      <th></th>\n",
       "      <th>Names</th>\n",
       "      <th>Age</th>\n",
       "    </tr>\n",
       "  </thead>\n",
       "  <tbody>\n",
       "    <tr>\n",
       "      <th>A</th>\n",
       "      <td>Raj</td>\n",
       "      <td>20</td>\n",
       "    </tr>\n",
       "    <tr>\n",
       "      <th>B</th>\n",
       "      <td>Abhi</td>\n",
       "      <td>21</td>\n",
       "    </tr>\n",
       "    <tr>\n",
       "      <th>C</th>\n",
       "      <td>Chinna</td>\n",
       "      <td>22</td>\n",
       "    </tr>\n",
       "  </tbody>\n",
       "</table>\n",
       "</div>"
      ],
      "text/plain": [
       "    Names  Age\n",
       "A     Raj   20\n",
       "B    Abhi   21\n",
       "C  Chinna   22"
      ]
     },
     "execution_count": 34,
     "metadata": {},
     "output_type": "execute_result"
    }
   ],
   "source": [
    "#Create a data frame drop any column\n",
    "name=['Raj','Abhi','Chinna']\n",
    "age =[20,21,22]\n",
    "city =['Pune','Hyd','Delhi']\n",
    "cols=['Names','Age','City']\n",
    "id=['A','B','C']\n",
    "df=pd.DataFrame(zip(name,age,city),index=id,columns=cols)\n",
    "df.drop('City',axis=1,inplace=True)\n",
    "df"
   ]
  },
  {
   "cell_type": "code",
   "execution_count": 37,
   "id": "f992cad7-fb91-479d-8c84-f95543a9fa51",
   "metadata": {},
   "outputs": [
    {
     "data": {
      "text/html": [
       "<div>\n",
       "<style scoped>\n",
       "    .dataframe tbody tr th:only-of-type {\n",
       "        vertical-align: middle;\n",
       "    }\n",
       "\n",
       "    .dataframe tbody tr th {\n",
       "        vertical-align: top;\n",
       "    }\n",
       "\n",
       "    .dataframe thead th {\n",
       "        text-align: right;\n",
       "    }\n",
       "</style>\n",
       "<table border=\"1\" class=\"dataframe\">\n",
       "  <thead>\n",
       "    <tr style=\"text-align: right;\">\n",
       "      <th></th>\n",
       "      <th>Names</th>\n",
       "      <th>Age</th>\n",
       "      <th>City</th>\n",
       "    </tr>\n",
       "  </thead>\n",
       "  <tbody>\n",
       "    <tr>\n",
       "      <th>B</th>\n",
       "      <td>Abhi</td>\n",
       "      <td>21</td>\n",
       "      <td>Hyd</td>\n",
       "    </tr>\n",
       "    <tr>\n",
       "      <th>C</th>\n",
       "      <td>Chinna</td>\n",
       "      <td>22</td>\n",
       "      <td>Delhi</td>\n",
       "    </tr>\n",
       "  </tbody>\n",
       "</table>\n",
       "</div>"
      ],
      "text/plain": [
       "    Names  Age   City\n",
       "B    Abhi   21    Hyd\n",
       "C  Chinna   22  Delhi"
      ]
     },
     "execution_count": 37,
     "metadata": {},
     "output_type": "execute_result"
    }
   ],
   "source": [
    "name=['Raj','Abhi','Chinna']\n",
    "age =[20,21,22]\n",
    "city =['Pune','Hyd','Delhi']\n",
    "cols=['Names','Age','City']\n",
    "id=['A','B','C']\n",
    "df=pd.DataFrame(zip(name,age,city),index=id,columns=cols)\n",
    "df.drop('A',axis=0,inplace=True)\n",
    "df"
   ]
  },
  {
   "cell_type": "code",
   "execution_count": null,
   "id": "e1e1216c-69e1-4ca1-8b9a-ab9603c90c45",
   "metadata": {},
   "outputs": [],
   "source": [
    "# Create two dataframes df1 and df2\n",
    "# add those dataframes\n",
    "########## df1 ########\n",
    "Names   Age  City\n",
    "Ramesh  20   Hyd\n",
    "\n",
    "###### df2 ###########\n",
    "Names  Age  City\n",
    "Suresh  21   Blr\n",
    "\n",
    "Names  Age  City\n",
    "Ramesh  20   Hyd\n",
    "Suresh  21   Blr\n",
    "\n",
    "\n",
    "append\n",
    "concat\n",
    "join"
   ]
  },
  {
   "cell_type": "markdown",
   "id": "3a8bd236-fd44-44c0-af9d-71dc11f79e0f",
   "metadata": {},
   "source": [
    "**Step-10: How to overwrite existed column data**\n",
    "\n",
    "- We already has a dataframe\n",
    "\n",
    "- Now we want replace all the values of a specific column with new values\n",
    "\n",
    "- First create a list with new values\n",
    "\n",
    "- Then update the column with new values, in the same way of how to create a new column\n",
    "\n",
    "- df[new col]=data , to create a new column\n",
    "\n",
    "- df[old col]= new data , to overwrite the old column"
   ]
  },
  {
   "cell_type": "code",
   "execution_count": 40,
   "id": "cfa2c60a-ba23-404d-88f4-403966a36f5f",
   "metadata": {},
   "outputs": [],
   "source": [
    "df['Age']=[31,33]"
   ]
  },
  {
   "cell_type": "code",
   "execution_count": 41,
   "id": "2edd41b7-5607-4408-9958-dd00a749534c",
   "metadata": {},
   "outputs": [
    {
     "data": {
      "text/html": [
       "<div>\n",
       "<style scoped>\n",
       "    .dataframe tbody tr th:only-of-type {\n",
       "        vertical-align: middle;\n",
       "    }\n",
       "\n",
       "    .dataframe tbody tr th {\n",
       "        vertical-align: top;\n",
       "    }\n",
       "\n",
       "    .dataframe thead th {\n",
       "        text-align: right;\n",
       "    }\n",
       "</style>\n",
       "<table border=\"1\" class=\"dataframe\">\n",
       "  <thead>\n",
       "    <tr style=\"text-align: right;\">\n",
       "      <th></th>\n",
       "      <th>Names</th>\n",
       "      <th>Age</th>\n",
       "      <th>City</th>\n",
       "    </tr>\n",
       "  </thead>\n",
       "  <tbody>\n",
       "    <tr>\n",
       "      <th>B</th>\n",
       "      <td>Abhi</td>\n",
       "      <td>31</td>\n",
       "      <td>Hyd</td>\n",
       "    </tr>\n",
       "    <tr>\n",
       "      <th>C</th>\n",
       "      <td>Chinna</td>\n",
       "      <td>33</td>\n",
       "      <td>Delhi</td>\n",
       "    </tr>\n",
       "  </tbody>\n",
       "</table>\n",
       "</div>"
      ],
      "text/plain": [
       "    Names  Age   City\n",
       "B    Abhi   31    Hyd\n",
       "C  Chinna   33  Delhi"
      ]
     },
     "execution_count": 41,
     "metadata": {},
     "output_type": "execute_result"
    }
   ],
   "source": [
    "df"
   ]
  },
  {
   "cell_type": "markdown",
   "id": "3f0a9eff-f282-48e8-ae14-d8a6f47bd440",
   "metadata": {},
   "source": [
    "**Step-11:How to Save the Dataframe**"
   ]
  },
  {
   "cell_type": "markdown",
   "id": "5d2bb064-a9d5-41e2-a9e0-98f821aea2eb",
   "metadata": {},
   "source": [
    "- we can save the dataframe using 2 ways\n",
    "\n",
    "- csv : comma seperated value\n",
    "\n",
    "- excel\n",
    "\n",
    "- For csv : .to_csv   extention=.csv\n",
    "\n",
    "- For excel: .to_excel  extention=.xlsx"
   ]
  },
  {
   "cell_type": "code",
   "execution_count": 42,
   "id": "c1ca8b36-4693-4682-ab6b-a14077b7a2c8",
   "metadata": {},
   "outputs": [
    {
     "data": {
      "text/html": [
       "<div>\n",
       "<style scoped>\n",
       "    .dataframe tbody tr th:only-of-type {\n",
       "        vertical-align: middle;\n",
       "    }\n",
       "\n",
       "    .dataframe tbody tr th {\n",
       "        vertical-align: top;\n",
       "    }\n",
       "\n",
       "    .dataframe thead th {\n",
       "        text-align: right;\n",
       "    }\n",
       "</style>\n",
       "<table border=\"1\" class=\"dataframe\">\n",
       "  <thead>\n",
       "    <tr style=\"text-align: right;\">\n",
       "      <th></th>\n",
       "      <th>Names</th>\n",
       "      <th>Age</th>\n",
       "      <th>City</th>\n",
       "    </tr>\n",
       "  </thead>\n",
       "  <tbody>\n",
       "    <tr>\n",
       "      <th>A</th>\n",
       "      <td>Raj</td>\n",
       "      <td>20</td>\n",
       "      <td>Pune</td>\n",
       "    </tr>\n",
       "    <tr>\n",
       "      <th>B</th>\n",
       "      <td>Abhi</td>\n",
       "      <td>21</td>\n",
       "      <td>Hyd</td>\n",
       "    </tr>\n",
       "    <tr>\n",
       "      <th>C</th>\n",
       "      <td>Chinna</td>\n",
       "      <td>22</td>\n",
       "      <td>Delhi</td>\n",
       "    </tr>\n",
       "  </tbody>\n",
       "</table>\n",
       "</div>"
      ],
      "text/plain": [
       "    Names  Age   City\n",
       "A     Raj   20   Pune\n",
       "B    Abhi   21    Hyd\n",
       "C  Chinna   22  Delhi"
      ]
     },
     "execution_count": 42,
     "metadata": {},
     "output_type": "execute_result"
    }
   ],
   "source": [
    "# Create a Dataframe\n",
    "name=['Raj','Abhi','Chinna']\n",
    "age =[20,21,22]\n",
    "city =['Pune','Hyd','Delhi']\n",
    "cols=['Names','Age','City']\n",
    "id=['A','B','C']\n",
    "df=pd.DataFrame(zip(name,age,city),index=id,columns=cols)\n",
    "df"
   ]
  },
  {
   "cell_type": "markdown",
   "id": "405ba19d-6e91-42be-ad4c-a3750fee6a00",
   "metadata": {},
   "source": [
    "**Csv format**"
   ]
  },
  {
   "cell_type": "code",
   "execution_count": 43,
   "id": "846c1329-f390-4d35-a497-3db017f1ee27",
   "metadata": {},
   "outputs": [],
   "source": [
    "# Dataframename.methodname\n",
    "# where you want to save\n",
    "# in what name you want to save\n",
    "df.to_csv('data.csv')"
   ]
  },
  {
   "cell_type": "markdown",
   "id": "c3a53728-6130-4285-a039-a4c39b492a38",
   "metadata": {},
   "source": [
    "**Excel sheet**"
   ]
  },
  {
   "cell_type": "code",
   "execution_count": 44,
   "id": "94ee71dc-14a8-4a4d-8aaf-262601214424",
   "metadata": {},
   "outputs": [],
   "source": [
    "df.to_excel('data1.xlsx')"
   ]
  },
  {
   "cell_type": "markdown",
   "id": "d3e6186f-8c4d-4ed3-b815-57a367295079",
   "metadata": {},
   "source": [
    "**Step-12 : Read the data**\n",
    "\n",
    "- read_csv\n",
    "\n",
    "- read_excel\n",
    "\n",
    "- both availabel on pandas"
   ]
  },
  {
   "cell_type": "code",
   "execution_count": 45,
   "id": "d39b4a2c-8ad8-410c-ba6d-1e3c1bb56f01",
   "metadata": {},
   "outputs": [
    {
     "data": {
      "text/html": [
       "<div>\n",
       "<style scoped>\n",
       "    .dataframe tbody tr th:only-of-type {\n",
       "        vertical-align: middle;\n",
       "    }\n",
       "\n",
       "    .dataframe tbody tr th {\n",
       "        vertical-align: top;\n",
       "    }\n",
       "\n",
       "    .dataframe thead th {\n",
       "        text-align: right;\n",
       "    }\n",
       "</style>\n",
       "<table border=\"1\" class=\"dataframe\">\n",
       "  <thead>\n",
       "    <tr style=\"text-align: right;\">\n",
       "      <th></th>\n",
       "      <th>Unnamed: 0</th>\n",
       "      <th>Names</th>\n",
       "      <th>Age</th>\n",
       "      <th>City</th>\n",
       "    </tr>\n",
       "  </thead>\n",
       "  <tbody>\n",
       "    <tr>\n",
       "      <th>0</th>\n",
       "      <td>A</td>\n",
       "      <td>Raj</td>\n",
       "      <td>20</td>\n",
       "      <td>Pune</td>\n",
       "    </tr>\n",
       "    <tr>\n",
       "      <th>1</th>\n",
       "      <td>B</td>\n",
       "      <td>Abhi</td>\n",
       "      <td>21</td>\n",
       "      <td>Hyd</td>\n",
       "    </tr>\n",
       "    <tr>\n",
       "      <th>2</th>\n",
       "      <td>C</td>\n",
       "      <td>Chinna</td>\n",
       "      <td>22</td>\n",
       "      <td>Delhi</td>\n",
       "    </tr>\n",
       "  </tbody>\n",
       "</table>\n",
       "</div>"
      ],
      "text/plain": [
       "  Unnamed: 0   Names  Age   City\n",
       "0          A     Raj   20   Pune\n",
       "1          B    Abhi   21    Hyd\n",
       "2          C  Chinna   22  Delhi"
      ]
     },
     "execution_count": 45,
     "metadata": {},
     "output_type": "execute_result"
    }
   ],
   "source": [
    "pd.read_csv('data.csv')"
   ]
  },
  {
   "cell_type": "code",
   "execution_count": 47,
   "id": "5c1f411a-72cb-4323-bd03-1d96864be885",
   "metadata": {},
   "outputs": [
    {
     "data": {
      "text/html": [
       "<div>\n",
       "<style scoped>\n",
       "    .dataframe tbody tr th:only-of-type {\n",
       "        vertical-align: middle;\n",
       "    }\n",
       "\n",
       "    .dataframe tbody tr th {\n",
       "        vertical-align: top;\n",
       "    }\n",
       "\n",
       "    .dataframe thead th {\n",
       "        text-align: right;\n",
       "    }\n",
       "</style>\n",
       "<table border=\"1\" class=\"dataframe\">\n",
       "  <thead>\n",
       "    <tr style=\"text-align: right;\">\n",
       "      <th></th>\n",
       "      <th>Unnamed: 0</th>\n",
       "      <th>Names</th>\n",
       "      <th>Age</th>\n",
       "      <th>City</th>\n",
       "    </tr>\n",
       "  </thead>\n",
       "  <tbody>\n",
       "    <tr>\n",
       "      <th>0</th>\n",
       "      <td>A</td>\n",
       "      <td>Raj</td>\n",
       "      <td>20</td>\n",
       "      <td>Pune</td>\n",
       "    </tr>\n",
       "    <tr>\n",
       "      <th>1</th>\n",
       "      <td>B</td>\n",
       "      <td>Abhi</td>\n",
       "      <td>21</td>\n",
       "      <td>Hyd</td>\n",
       "    </tr>\n",
       "    <tr>\n",
       "      <th>2</th>\n",
       "      <td>C</td>\n",
       "      <td>Chinna</td>\n",
       "      <td>22</td>\n",
       "      <td>Delhi</td>\n",
       "    </tr>\n",
       "  </tbody>\n",
       "</table>\n",
       "</div>"
      ],
      "text/plain": [
       "  Unnamed: 0   Names  Age   City\n",
       "0          A     Raj   20   Pune\n",
       "1          B    Abhi   21    Hyd\n",
       "2          C  Chinna   22  Delhi"
      ]
     },
     "execution_count": 47,
     "metadata": {},
     "output_type": "execute_result"
    }
   ],
   "source": [
    "pd.read_excel('data1.xlsx')"
   ]
  },
  {
   "cell_type": "markdown",
   "id": "f582d127-80c6-4fff-b7fd-542bb87879ab",
   "metadata": {},
   "source": [
    "**Step-13: How to avoid extra column**\n",
    "\n",
    "- while we are saving the data, we have argument name **index**\n",
    "\n",
    "- keep index=False"
   ]
  },
  {
   "cell_type": "code",
   "execution_count": 48,
   "id": "0b50e03c-70de-4fe7-8db1-2412bef1e49b",
   "metadata": {},
   "outputs": [
    {
     "data": {
      "text/html": [
       "<div>\n",
       "<style scoped>\n",
       "    .dataframe tbody tr th:only-of-type {\n",
       "        vertical-align: middle;\n",
       "    }\n",
       "\n",
       "    .dataframe tbody tr th {\n",
       "        vertical-align: top;\n",
       "    }\n",
       "\n",
       "    .dataframe thead th {\n",
       "        text-align: right;\n",
       "    }\n",
       "</style>\n",
       "<table border=\"1\" class=\"dataframe\">\n",
       "  <thead>\n",
       "    <tr style=\"text-align: right;\">\n",
       "      <th></th>\n",
       "      <th>Names</th>\n",
       "      <th>Age</th>\n",
       "      <th>City</th>\n",
       "    </tr>\n",
       "  </thead>\n",
       "  <tbody>\n",
       "    <tr>\n",
       "      <th>0</th>\n",
       "      <td>Raj</td>\n",
       "      <td>20</td>\n",
       "      <td>Pune</td>\n",
       "    </tr>\n",
       "    <tr>\n",
       "      <th>1</th>\n",
       "      <td>Abhi</td>\n",
       "      <td>21</td>\n",
       "      <td>Hyd</td>\n",
       "    </tr>\n",
       "    <tr>\n",
       "      <th>2</th>\n",
       "      <td>Chinna</td>\n",
       "      <td>22</td>\n",
       "      <td>Delhi</td>\n",
       "    </tr>\n",
       "  </tbody>\n",
       "</table>\n",
       "</div>"
      ],
      "text/plain": [
       "    Names  Age   City\n",
       "0     Raj   20   Pune\n",
       "1    Abhi   21    Hyd\n",
       "2  Chinna   22  Delhi"
      ]
     },
     "execution_count": 48,
     "metadata": {},
     "output_type": "execute_result"
    }
   ],
   "source": [
    "# Give the differnt name, provide index= False\n",
    "df.to_csv('data11.csv',index=False)\n",
    "pd.read_csv('data11.csv')"
   ]
  },
  {
   "cell_type": "code",
   "execution_count": null,
   "id": "189658e2-fef4-4330-a74f-5f5806743bb1",
   "metadata": {},
   "outputs": [],
   "source": []
  }
 ],
 "metadata": {
  "kernelspec": {
   "display_name": "Python 3 (ipykernel)",
   "language": "python",
   "name": "python3"
  },
  "language_info": {
   "codemirror_mode": {
    "name": "ipython",
    "version": 3
   },
   "file_extension": ".py",
   "mimetype": "text/x-python",
   "name": "python",
   "nbconvert_exporter": "python",
   "pygments_lexer": "ipython3",
   "version": "3.12.4"
  }
 },
 "nbformat": 4,
 "nbformat_minor": 5
}
